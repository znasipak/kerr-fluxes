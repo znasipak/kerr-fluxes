{
 "cells": [
  {
   "cell_type": "markdown",
   "metadata": {},
   "source": [
    "# Kerr equatorial eccentric fluxes"
   ]
  },
  {
   "cell_type": "markdown",
   "metadata": {},
   "source": [
    "## Define location of data directory"
   ]
  },
  {
   "cell_type": "code",
   "execution_count": 88,
   "metadata": {},
   "outputs": [],
   "source": [
    "data_dir = \"/Users/znasipak/Library/CloudStorage/OneDrive-UniversityofSouthampton/FluxData/data/\""
   ]
  },
  {
   "cell_type": "markdown",
   "metadata": {},
   "source": [
    "## Define coordinates for interpolated grids"
   ]
  },
  {
   "cell_type": "code",
   "execution_count": 68,
   "metadata": {},
   "outputs": [],
   "source": [
    "import numpy as np\n",
    "import pandas as pd\n",
    "import os\n",
    "from multispline.spline import CubicSpline, TricubicSpline # pip install multispline"
   ]
  },
  {
   "cell_type": "markdown",
   "metadata": {},
   "source": [
    "### Define boundaries of the grid"
   ]
  },
  {
   "cell_type": "code",
   "execution_count": 69,
   "metadata": {},
   "outputs": [],
   "source": [
    "CBUFFERVALUE = 0.05\n",
    "PCRITVALUE = 10\n",
    "PMAXVALUE = 30\n",
    "AMAXVALUE = 0.99\n",
    "AMINVALUE = 0.\n",
    "EMAXVALUE = 0.8"
   ]
  },
  {
   "cell_type": "code",
   "execution_count": 89,
   "metadata": {},
   "outputs": [],
   "source": [
    "spl_db = pd.read_table(data_dir+\"RegionI_Coeffs.txt\")"
   ]
  },
  {
   "cell_type": "code",
   "execution_count": 71,
   "metadata": {},
   "outputs": [],
   "source": [
    "Bspl = CubicSpline(spl_db[\"a\"].to_numpy(), spl_db[\"B\"].to_numpy())\n",
    "Mspl = CubicSpline(spl_db[\"a\"].to_numpy(), spl_db[\"M\"].to_numpy())"
   ]
  },
  {
   "cell_type": "code",
   "execution_count": 72,
   "metadata": {},
   "outputs": [],
   "source": [
    "def get_boundaryI_coeffs(a):\n",
    "    return Mspl(a), Bspl(a) + CBUFFERVALUE\n",
    "\n",
    "def get_boundaryII_coeffs(a):\n",
    "    return 0.004466205356102843, 0.3533794643897157\n",
    "\n",
    "def minimum_simulated_separation(a, e):\n",
    "    mcoeff, bcoeff = get_boundaryI_coeffs(a)\n",
    "    return mcoeff * e + bcoeff\n",
    "\n",
    "def maximum_simulated_separation(a, e):\n",
    "    return PMAXVALUE\n",
    "\n",
    "def critical_simulated_separation(a, e):\n",
    "    return PCRITVALUE\n",
    "\n",
    "def maximum_simulated_eccentricity(a, p):\n",
    "    if p < PCRITVALUE:\n",
    "        acoeff, ccoeff = get_boundaryII_coeffs(a)\n",
    "        return acoeff*p**2 + ccoeff\n",
    "    else:\n",
    "        return EMAXVALUE\n",
    "\n",
    "def minimum_simulated_eccentricity(a, p):\n",
    "    return 0\n",
    "\n",
    "def maximum_simulated_spin(p, e):\n",
    "    return AMAXVALUE\n",
    "\n",
    "def minimum_simulated_spin(p, e):\n",
    "    return AMINVALUE"
   ]
  },
  {
   "cell_type": "markdown",
   "metadata": {},
   "source": [
    "### Region A Transformations"
   ]
  },
  {
   "cell_type": "code",
   "execution_count": 73,
   "metadata": {},
   "outputs": [],
   "source": [
    "def transform_ape_to_xyz_regionA(a, p, e):\n",
    "    pmin = minimum_simulated_separation(a, e)\n",
    "    pmax = PCRITVALUE\n",
    "    x = (p - pmin) / (pmax - pmin)\n",
    "\n",
    "    emax = maximum_simulated_eccentricity(a, p)\n",
    "    y = e/emax\n",
    "\n",
    "    amax = AMAXVALUE\n",
    "    z = a/amax\n",
    "\n",
    "    return x, y, z\n",
    "\n",
    "def transform_xyz_to_ape_regionA(x, y, z):\n",
    "    amax = AMAXVALUE\n",
    "    a = z*amax\n",
    "    mcoeff, bcoeff = get_boundaryI_coeffs(a)\n",
    "    acoeff, ccoeff = get_boundaryII_coeffs(a)\n",
    "\n",
    "    pmax = PCRITVALUE\n",
    "    alpha = 1 - x\n",
    "    beta = x*pmax\n",
    "    delta = y*mcoeff\n",
    "\n",
    "    A = alpha*delta*acoeff\n",
    "    B = -1\n",
    "    C = beta + alpha*(delta*ccoeff + bcoeff)\n",
    "    if A == 0:\n",
    "        p = -C/B\n",
    "    else:\n",
    "        p = (-B - np.sqrt(B**2 - 4*A*C))/(2*A)\n",
    "\n",
    "    emax = maximum_simulated_eccentricity(a, p)\n",
    "    e = y*emax\n",
    "\n",
    "    return a, p, e\n",
    "\n",
    "def transform_xyz_to_xyzbar_regionA(x, y, z):\n",
    "    xbar = 2*(1 - (1/(1 + np.sqrt(np.abs(x)))))\n",
    "    ybar = y\n",
    "    zbar = (1 - z)**(1/3)\n",
    "    return xbar, ybar, zbar\n",
    "\n",
    "def transform_xyzbar_to_xyz_regionA(xbar, ybar, zbar):\n",
    "    x = (2/(2 - xbar) - 1)**2\n",
    "    y = ybar\n",
    "    z = 1 - zbar**3\n",
    "    return x, y, z\n",
    "\n",
    "def transform_ape_to_xyzbar_regionA(a, p, e):\n",
    "    x, y, z = transform_ape_to_xyz_regionA(a, p, e)\n",
    "    return transform_xyz_to_xyzbar_regionA(x, y, z)\n",
    "\n",
    "def transform_xyzbar_to_ape_regionA(xbar, ybar, zbar):\n",
    "    x, y, z = transform_xyzbar_to_xyz_regionA(xbar, ybar, zbar)\n",
    "    return transform_xyz_to_ape_regionA(x, y, z)"
   ]
  },
  {
   "cell_type": "markdown",
   "metadata": {},
   "source": [
    "### Region B Transformations"
   ]
  },
  {
   "cell_type": "code",
   "execution_count": 74,
   "metadata": {},
   "outputs": [],
   "source": [
    "def transform_ape_to_xyz_regionB(a, p, e):\n",
    "    pmin = PCRITVALUE\n",
    "    pmax = PMAXVALUE\n",
    "    x = (p - pmin) / (pmax - pmin)\n",
    "\n",
    "    emax = EMAXVALUE\n",
    "    y = e/emax\n",
    "\n",
    "    amax = AMAXVALUE\n",
    "    z = a/amax\n",
    "\n",
    "    return x, y, z\n",
    "\n",
    "def transform_xyz_to_ape_regionB(x, y, z):\n",
    "    amax = AMAXVALUE\n",
    "    a = z*amax\n",
    "\n",
    "    pmin = PCRITVALUE\n",
    "    pmax = PMAXVALUE\n",
    "    p = x*(pmax - pmin) + pmin\n",
    "\n",
    "    emax = EMAXVALUE\n",
    "    e = y*emax\n",
    "\n",
    "    return a, p, e\n",
    "\n",
    "def transform_xyz_to_xyzbar_regionB(x, y, z):\n",
    "    xbar = x\n",
    "    ybar = y\n",
    "    zbar = (1 - z)**(1/3)\n",
    "    return xbar, ybar, zbar\n",
    "\n",
    "def transform_xyzbar_to_xyz_regionB(xbar, ybar, zbar):\n",
    "    x = xbar\n",
    "    y = ybar\n",
    "    z = 1 - zbar**3\n",
    "    return x, y, z\n",
    "\n",
    "def transform_ape_to_xyzbar_regionB(a, p, e):\n",
    "    x, y, z = transform_ape_to_xyz_regionB(a, p, e)\n",
    "    return transform_xyz_to_xyzbar_regionB(x, y, z)\n",
    "\n",
    "def transform_xyzbar_to_ape_regionB(xbar, ybar, zbar):\n",
    "    x, y, z = transform_xyzbar_to_xyz_regionB(xbar, ybar, zbar)\n",
    "    return transform_xyz_to_ape_regionB(x, y, z)"
   ]
  },
  {
   "cell_type": "code",
   "execution_count": 75,
   "metadata": {},
   "outputs": [],
   "source": [
    "def valid_parameters_test_regionA(a, p, e):\n",
    "    emax = maximum_simulated_eccentricity(a, p)\n",
    "    pmin = minimum_simulated_separation(a, e)\n",
    "    emin = 0\n",
    "    amin = AMINVALUE\n",
    "    amax = AMAXVALUE\n",
    "    if e < emin or e > emax or p < pmin or a < amin or a > amax:\n",
    "        return False\n",
    "    else:\n",
    "        return True\n",
    "    \n",
    "def valid_parameters_test_regionB(a, p, e):\n",
    "    emax = EMAXVALUE\n",
    "    pmax = PMAXVALUE\n",
    "    emin = 0\n",
    "    amin = AMINVALUE\n",
    "    amax = AMAXVALUE\n",
    "    if e < emin or e > emax or p > pmax or a < amin or a > amax:\n",
    "        return False\n",
    "    else:\n",
    "        return True\n",
    "    \n",
    "def valid_parameters_test(a, p, e):\n",
    "    if p < PCRITVALUE:\n",
    "        return valid_parameters_test_regionA(a, p, e)\n",
    "    else:\n",
    "        return valid_parameters_test_regionB(a, p, e)"
   ]
  },
  {
   "cell_type": "markdown",
   "metadata": {},
   "source": [
    "## Load flux data"
   ]
  },
  {
   "cell_type": "code",
   "execution_count": 90,
   "metadata": {},
   "outputs": [],
   "source": [
    "dataA = pd.read_table(data_dir+\"RegA_3DGrid_NX257NY129NZ129_C005_output.txt\")\n",
    "dataB = pd.read_table(data_dir+\"RegB_3DGrid_NX257NY129NZ129_C005_output.txt\")"
   ]
  },
  {
   "cell_type": "code",
   "execution_count": 78,
   "metadata": {},
   "outputs": [],
   "source": [
    "NX = 257\n",
    "NY = 129\n",
    "NZ = 129\n",
    "xsamples = np.linspace(0, 1, NX)\n",
    "ysamples = np.linspace(0, 1, NY)\n",
    "zsamples = np.linspace(0, 1, NZ)"
   ]
  },
  {
   "cell_type": "code",
   "execution_count": 79,
   "metadata": {},
   "outputs": [],
   "source": [
    "def energy_flux_pn(p):\n",
    "    return p**(-5.)\n",
    "\n",
    "def momentum_flux_pn(p):\n",
    "    return p**(-3.5)"
   ]
  },
  {
   "cell_type": "code",
   "execution_count": 80,
   "metadata": {},
   "outputs": [],
   "source": [
    "ENormA = energy_flux_pn(dataA[\"p0\"].to_numpy())\n",
    "ENormB = energy_flux_pn(dataB[\"p0\"].to_numpy())\n",
    "\n",
    "LNormA = momentum_flux_pn(dataA[\"p0\"].to_numpy())\n",
    "LNormB = momentum_flux_pn(dataB[\"p0\"].to_numpy())"
   ]
  },
  {
   "cell_type": "code",
   "execution_count": 81,
   "metadata": {},
   "outputs": [],
   "source": [
    "EdotDataA = dataA[\"Edot\"].to_numpy()/ENormA\n",
    "EdotDataB = dataB[\"Edot\"].to_numpy()/ENormB\n",
    "\n",
    "LdotDataA = dataA[\"Ldot\"].to_numpy()/LNormA\n",
    "LdotDataB = dataB[\"Ldot\"].to_numpy()/LNormB"
   ]
  },
  {
   "cell_type": "code",
   "execution_count": 82,
   "metadata": {},
   "outputs": [],
   "source": [
    "EdotDataA_reshaped = EdotDataA.reshape(NY, NX, NZ).swapaxes(0, 1)\n",
    "EdotDataB_reshaped = EdotDataB.reshape(NY, NX, NZ).swapaxes(0, 1)\n",
    "LdotDataA_reshaped = LdotDataA.reshape(NY, NX, NZ).swapaxes(0, 1)\n",
    "LdotDataB_reshaped = LdotDataB.reshape(NY, NX, NZ).swapaxes(0, 1)"
   ]
  },
  {
   "cell_type": "code",
   "execution_count": 83,
   "metadata": {},
   "outputs": [],
   "source": [
    "EdotXYZ_A = TricubicSpline(xsamples, ysamples, zsamples, EdotDataA_reshaped)\n",
    "EdotXYZ_B = TricubicSpline(xsamples, ysamples, zsamples, EdotDataB_reshaped)\n",
    "LdotXYZ_A = TricubicSpline(xsamples, ysamples, zsamples, LdotDataA_reshaped)\n",
    "LdotXYZ_B = TricubicSpline(xsamples, ysamples, zsamples, LdotDataB_reshaped)"
   ]
  },
  {
   "cell_type": "code",
   "execution_count": 84,
   "metadata": {},
   "outputs": [],
   "source": [
    "def energy_flux(a, p, e):\n",
    "    if valid_parameters_test(a, p, e) == False:\n",
    "        return 0.*a\n",
    "    \n",
    "    Enorm = energy_flux_pn(p)\n",
    "    if p < PCRITVALUE:\n",
    "        x, y, z = transform_ape_to_xyzbar_regionA(a, p, e)\n",
    "        return EdotXYZ_A(x, y, z)*Enorm\n",
    "    else:\n",
    "        x, y, z = transform_ape_to_xyzbar_regionB(a, p, e)\n",
    "        return EdotXYZ_B(x, y, z)*Enorm\n",
    "    \n",
    "def angular_momentum_flux(a, p, e):\n",
    "    if valid_parameters_test(a, p, e) == False:\n",
    "        return 0.*a\n",
    "    \n",
    "    Lnorm = momentum_flux_pn(p)\n",
    "    if p < PCRITVALUE:\n",
    "        x, y, z = transform_ape_to_xyzbar_regionA(a, p, e)\n",
    "        return LdotXYZ_A(x, y, z)*Lnorm\n",
    "    else:\n",
    "        x, y, z = transform_ape_to_xyzbar_regionB(a, p, e)\n",
    "        return LdotXYZ_B(x, y, z)*Lnorm"
   ]
  },
  {
   "cell_type": "markdown",
   "metadata": {},
   "source": [
    "## Calculate $\\dot{E}$ and $\\dot{L}$"
   ]
  },
  {
   "cell_type": "code",
   "execution_count": 86,
   "metadata": {},
   "outputs": [
    {
     "name": "stdout",
     "output_type": "stream",
     "text": [
      "0.05251088915848533\n",
      "0.1772010200247519\n"
     ]
    }
   ],
   "source": [
    "print(energy_flux(0.99, 2, 0.3))\n",
    "print(angular_momentum_flux(0.99, 2, 0.3))"
   ]
  }
 ],
 "metadata": {
  "kernelspec": {
   "display_name": "pybhpt-env",
   "language": "python",
   "name": "pybhpt-env"
  },
  "language_info": {
   "codemirror_mode": {
    "name": "ipython",
    "version": 3
   },
   "file_extension": ".py",
   "mimetype": "text/x-python",
   "name": "python",
   "nbconvert_exporter": "python",
   "pygments_lexer": "ipython3",
   "version": "3.9.20"
  }
 },
 "nbformat": 4,
 "nbformat_minor": 2
}
